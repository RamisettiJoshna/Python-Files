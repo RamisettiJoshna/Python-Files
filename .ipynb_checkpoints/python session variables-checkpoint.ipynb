{
 "cells": [
  {
   "cell_type": "markdown",
   "id": "9c66e908",
   "metadata": {},
   "source": [
    "# variables\n",
    "\n",
    "- variables are used to store the values \n",
    "- and the values can be changed."
   ]
  },
  {
   "cell_type": "code",
   "execution_count": null,
   "id": "3028c923",
   "metadata": {},
   "outputs": [],
   "source": [
    "- Full Stack Data Science."
   ]
  },
  {
   "cell_type": "code",
   "execution_count": 1,
   "id": "b283dde7",
   "metadata": {},
   "outputs": [
    {
     "data": {
      "text/plain": [
       "100"
      ]
     },
     "execution_count": 1,
     "metadata": {},
     "output_type": "execute_result"
    }
   ],
   "source": [
    "number=100  # value 100 stored in a variable name called 'number'\n",
    "number #shift+enter"
   ]
  },
  {
   "cell_type": "code",
   "execution_count": 2,
   "id": "8d72cab0",
   "metadata": {},
   "outputs": [
    {
     "data": {
      "text/plain": [
       "200"
      ]
     },
     "execution_count": 2,
     "metadata": {},
     "output_type": "execute_result"
    }
   ],
   "source": [
    "number=200  # value 100 stored in a variable name called 'number'\n",
    "number"
   ]
  },
  {
   "cell_type": "markdown",
   "id": "b66da28c",
   "metadata": {},
   "source": [
    "**Note**\n",
    "- python is step by step process\n",
    "\n",
    "- python will take last output as the latest value\n",
    "\n",
    "- in above code we are using same variable:number\n",
    "    \n",
    "- but number value changed two times\n",
    "\n",
    "- first time 100\n",
    "\n",
    "- second time 200\n",
    "\n",
    "- latest value 200"
   ]
  },
  {
   "cell_type": "code",
   "execution_count": 7,
   "id": "4ad7b0bd",
   "metadata": {},
   "outputs": [
    {
     "data": {
      "text/plain": [
       "200"
      ]
     },
     "execution_count": 7,
     "metadata": {},
     "output_type": "execute_result"
    }
   ],
   "source": [
    "NUMBER=200\n",
    "NUMBER"
   ]
  },
  {
   "cell_type": "code",
   "execution_count": 8,
   "id": "076906e2",
   "metadata": {},
   "outputs": [
    {
     "data": {
      "text/plain": [
       "(200, 200)"
      ]
     },
     "execution_count": 8,
     "metadata": {},
     "output_type": "execute_result"
    }
   ],
   "source": [
    "(number,NUMBER)"
   ]
  },
  {
   "cell_type": "code",
   "execution_count": 23,
   "id": "e69bb82b",
   "metadata": {},
   "outputs": [
    {
     "data": {
      "text/plain": [
       "100"
      ]
     },
     "execution_count": 23,
     "metadata": {},
     "output_type": "execute_result"
    }
   ],
   "source": [
    "NUMber=100\n",
    "NUMber"
   ]
  },
  {
   "cell_type": "code",
   "execution_count": 24,
   "id": "76d18d68",
   "metadata": {},
   "outputs": [
    {
     "data": {
      "text/plain": [
       "100"
      ]
     },
     "execution_count": 24,
     "metadata": {},
     "output_type": "execute_result"
    }
   ],
   "source": [
    "number123=100\n",
    "number123"
   ]
  },
  {
   "cell_type": "code",
   "execution_count": 1,
   "id": "cf75a539",
   "metadata": {},
   "outputs": [
    {
     "ename": "SyntaxError",
     "evalue": "invalid syntax (960378914.py, line 2)",
     "output_type": "error",
     "traceback": [
      "\u001b[1;36m  File \u001b[1;32m\"C:\\Users\\vijji\\AppData\\Local\\Temp\\ipykernel_2760\\960378914.py\"\u001b[1;36m, line \u001b[1;32m2\u001b[0m\n\u001b[1;33m    number@\u001b[0m\n\u001b[1;37m           ^\u001b[0m\n\u001b[1;31mSyntaxError\u001b[0m\u001b[1;31m:\u001b[0m invalid syntax\n"
     ]
    }
   ],
   "source": [
    "number@=100\n",
    "number@ "
   ]
  },
  {
   "cell_type": "code",
   "execution_count": 25,
   "id": "cd591012",
   "metadata": {},
   "outputs": [
    {
     "ename": "SyntaxError",
     "evalue": "invalid syntax (3020286301.py, line 1)",
     "output_type": "error",
     "traceback": [
      "\u001b[1;36m  File \u001b[1;32m\"C:\\Users\\vijji\\AppData\\Local\\Temp\\ipykernel_18184\\3020286301.py\"\u001b[1;36m, line \u001b[1;32m1\u001b[0m\n\u001b[1;33m    123number=200\u001b[0m\n\u001b[1;37m       ^\u001b[0m\n\u001b[1;31mSyntaxError\u001b[0m\u001b[1;31m:\u001b[0m invalid syntax\n"
     ]
    }
   ],
   "source": [
    "123number=200\n",
    "123number"
   ]
  },
  {
   "cell_type": "code",
   "execution_count": 26,
   "id": "d18c6bd4",
   "metadata": {},
   "outputs": [
    {
     "ename": "SyntaxError",
     "evalue": "cannot assign to operator (1475640169.py, line 1)",
     "output_type": "error",
     "traceback": [
      "\u001b[1;36m  File \u001b[1;32m\"C:\\Users\\vijji\\AppData\\Local\\Temp\\ipykernel_18184\\1475640169.py\"\u001b[1;36m, line \u001b[1;32m1\u001b[0m\n\u001b[1;33m    num%ber=300\u001b[0m\n\u001b[1;37m    ^\u001b[0m\n\u001b[1;31mSyntaxError\u001b[0m\u001b[1;31m:\u001b[0m cannot assign to operator\n"
     ]
    }
   ],
   "source": [
    "num%ber=300\n",
    "num%ber"
   ]
  },
  {
   "cell_type": "code",
   "execution_count": 9,
   "id": "5881f15c",
   "metadata": {},
   "outputs": [
    {
     "ename": "SyntaxError",
     "evalue": "invalid syntax (2579399180.py, line 1)",
     "output_type": "error",
     "traceback": [
      "\u001b[1;36m  File \u001b[1;32m\"C:\\Users\\vijji\\AppData\\Local\\Temp\\ipykernel_18184\\2579399180.py\"\u001b[1;36m, line \u001b[1;32m1\u001b[0m\n\u001b[1;33m    number one=200\u001b[0m\n\u001b[1;37m           ^\u001b[0m\n\u001b[1;31mSyntaxError\u001b[0m\u001b[1;31m:\u001b[0m invalid syntax\n"
     ]
    }
   ],
   "source": [
    "number one=200\n",
    "number one"
   ]
  },
  {
   "cell_type": "code",
   "execution_count": 10,
   "id": "7abd4c3e",
   "metadata": {},
   "outputs": [
    {
     "data": {
      "text/plain": [
       "900"
      ]
     },
     "execution_count": 10,
     "metadata": {},
     "output_type": "execute_result"
    }
   ],
   "source": [
    "number_one=900\n",
    "number_one"
   ]
  },
  {
   "cell_type": "code",
   "execution_count": 11,
   "id": "2f89058d",
   "metadata": {},
   "outputs": [
    {
     "data": {
      "text/plain": [
       "900"
      ]
     },
     "execution_count": 11,
     "metadata": {},
     "output_type": "execute_result"
    }
   ],
   "source": [
    "_=900\n",
    "_"
   ]
  },
  {
   "cell_type": "code",
   "execution_count": 12,
   "id": "6d3a09cd",
   "metadata": {},
   "outputs": [
    {
     "data": {
      "text/plain": [
       "(100, 200)"
      ]
     },
     "execution_count": 12,
     "metadata": {},
     "output_type": "execute_result"
    }
   ],
   "source": [
    "n1=100,200\n",
    "n1"
   ]
  },
  {
   "cell_type": "code",
   "execution_count": 13,
   "id": "05a7d31b",
   "metadata": {},
   "outputs": [
    {
     "ename": "TypeError",
     "evalue": "cannot unpack non-iterable int object",
     "output_type": "error",
     "traceback": [
      "\u001b[1;31m---------------------------------------------------------------------------\u001b[0m",
      "\u001b[1;31mTypeError\u001b[0m                                 Traceback (most recent call last)",
      "\u001b[1;32m~\\AppData\\Local\\Temp\\ipykernel_18184\\530342921.py\u001b[0m in \u001b[0;36m<module>\u001b[1;34m\u001b[0m\n\u001b[1;32m----> 1\u001b[1;33m \u001b[0mn2\u001b[0m\u001b[1;33m,\u001b[0m\u001b[0mn3\u001b[0m\u001b[1;33m=\u001b[0m\u001b[1;36m300\u001b[0m\u001b[1;33m\u001b[0m\u001b[1;33m\u001b[0m\u001b[0m\n\u001b[0m",
      "\u001b[1;31mTypeError\u001b[0m: cannot unpack non-iterable int object"
     ]
    }
   ],
   "source": [
    "n2,n3=300"
   ]
  },
  {
   "cell_type": "code",
   "execution_count": 16,
   "id": "6ecaaf88",
   "metadata": {},
   "outputs": [
    {
     "data": {
      "text/plain": [
       "(100, 200)"
      ]
     },
     "execution_count": 16,
     "metadata": {},
     "output_type": "execute_result"
    }
   ],
   "source": [
    "n4,n5=100,200\n",
    "n4,n5"
   ]
  },
  {
   "cell_type": "code",
   "execution_count": 17,
   "id": "6584216d",
   "metadata": {},
   "outputs": [
    {
     "data": {
      "text/plain": [
       "200"
      ]
     },
     "execution_count": 17,
     "metadata": {},
     "output_type": "execute_result"
    }
   ],
   "source": [
    "n4,n5=100,200\n",
    "n4\n",
    "n5"
   ]
  },
  {
   "cell_type": "code",
   "execution_count": 18,
   "id": "1345b47d",
   "metadata": {},
   "outputs": [
    {
     "name": "stdout",
     "output_type": "stream",
     "text": [
      "100\n",
      "200\n"
     ]
    }
   ],
   "source": [
    "n4,n5=100,200\n",
    "print(n4)\n",
    "print(n5)"
   ]
  },
  {
   "cell_type": "markdown",
   "id": "092abab3",
   "metadata": {},
   "source": [
    "number=200 # works\n",
    "NUMBER=300 # WORKS\n",
    "NUMber=400 # works\n",
    "number123=500 #works\n",
    "\n"
   ]
  },
  {
   "cell_type": "code",
   "execution_count": 20,
   "id": "6be9caf0",
   "metadata": {},
   "outputs": [
    {
     "data": {
      "text/plain": [
       "(200, 300)"
      ]
     },
     "execution_count": 20,
     "metadata": {},
     "output_type": "execute_result"
    }
   ],
   "source": [
    "n1,_=200,300\n",
    "n1,_"
   ]
  },
  {
   "cell_type": "markdown",
   "id": "e81d463b",
   "metadata": {},
   "source": [
    "- python variables are case sensitive\n",
    "\n",
    "- variables can be declare as capital letters\n",
    "\n",
    "- variables can be declare as capital letters\n",
    "\n",
    "- variables cannot start with numbers(prefix is fail)\n",
    "\n",
    "- numbers can be suffix of the variables\n",
    "\n",
    "- variables can not have  special characters except  **underscore**\n",
    "\n",
    "- variables does not have space between the names\n",
    "\n",
    "- keywords are cannot use as a variables\n",
    "\n",
    "- keywords are reserved values\n",
    "\n",
    "- two values can be assign to a single value\n",
    "\n",
    "- one value can not assign to a two variables"
   ]
  },
  {
   "cell_type": "code",
   "execution_count": null,
   "id": "19908807",
   "metadata": {},
   "outputs": [],
   "source": [
    "True   # keyword\n",
    "true   #variable"
   ]
  }
 ],
 "metadata": {
  "kernelspec": {
   "display_name": "Python 3 (ipykernel)",
   "language": "python",
   "name": "python3"
  },
  "language_info": {
   "codemirror_mode": {
    "name": "ipython",
    "version": 3
   },
   "file_extension": ".py",
   "mimetype": "text/x-python",
   "name": "python",
   "nbconvert_exporter": "python",
   "pygments_lexer": "ipython3",
   "version": "3.9.13"
  }
 },
 "nbformat": 4,
 "nbformat_minor": 5
}
